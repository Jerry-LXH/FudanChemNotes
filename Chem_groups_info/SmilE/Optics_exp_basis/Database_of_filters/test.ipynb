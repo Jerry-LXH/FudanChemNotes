{
 "cells": [
  {
   "cell_type": "code",
   "execution_count": 4,
   "id": "05d9fe12",
   "metadata": {},
   "outputs": [
    {
     "name": "stdout",
     "output_type": "stream",
     "text": [
      "New filter 'Filter_A' is added.\n",
      "!! Filter 'Filter_B' already exists, overwriting data.\n",
      "Filter_A 数据点数: 6\n"
     ]
    }
   ],
   "source": [
    "from dataBase import FilterDatabaseSQLite\n",
    "\n",
    "db = FilterDatabaseSQLite(\"filters.db\")\n",
    "db.add_filter(\n",
    "    name=\"Filter_A\",\n",
    "    wavelengths=[400,410,420,430,440,450],\n",
    "    transmissions=[0.01,0.2,0.8,0.9,0.85,0.1],\n",
    "    ftype=\"Bandpass\",\n",
    "    manufacturer=\"XLabs\",\n",
    "    overwrite=True\n",
    ")\n",
    "db.add_filter(\n",
    "    name=\"Filter_B\",\n",
    "    wavelengths=[400,410,420,430,440,450],\n",
    "    transmissions=[0.01,0.2,0.8,0.9,0.85,0.1],\n",
    "    ftype=\"Lowpass\",\n",
    "    manufacturer=\"Thorlabs\",\n",
    "    overwrite=True\n",
    ")\n",
    "\n",
    "wl, tr = db.get_filter_spectrum(\"Filter_A\")\n",
    "print(\"Filter_A 数据点数:\", len(wl))"
   ]
  },
  {
   "cell_type": "code",
   "execution_count": 6,
   "id": "61d1954a",
   "metadata": {},
   "outputs": [
    {
     "data": {
      "text/plain": [
       "array([400., 410., 420., 430., 440., 450.])"
      ]
     },
     "execution_count": 6,
     "metadata": {},
     "output_type": "execute_result"
    }
   ],
   "source": [
    "wl"
   ]
  },
  {
   "cell_type": "code",
   "execution_count": 5,
   "id": "4bd85785",
   "metadata": {},
   "outputs": [
    {
     "name": "stdout",
     "output_type": "stream",
     "text": [
      "Ordered by: manufacturer :\n",
      "ID=2, 名称=Filter_B, 类型=Lowpass, 厂商=Thorlabs, 备注=\n",
      "ID=3, 名称=Filter_A, 类型=Bandpass, 厂商=XLabs, 备注=\n"
     ]
    },
    {
     "data": {
      "text/plain": [
       "[(2, 'Filter_B', 'Lowpass', 'Thorlabs', ''),\n",
       " (3, 'Filter_A', 'Bandpass', 'XLabs', '')]"
      ]
     },
     "execution_count": 5,
     "metadata": {},
     "output_type": "execute_result"
    }
   ],
   "source": [
    "db.list_all_filters()"
   ]
  }
 ],
 "metadata": {
  "kernelspec": {
   "display_name": "d2l",
   "language": "python",
   "name": "python3"
  },
  "language_info": {
   "codemirror_mode": {
    "name": "ipython",
    "version": 3
   },
   "file_extension": ".py",
   "mimetype": "text/x-python",
   "name": "python",
   "nbconvert_exporter": "python",
   "pygments_lexer": "ipython3",
   "version": "3.9.20"
  }
 },
 "nbformat": 4,
 "nbformat_minor": 5
}
